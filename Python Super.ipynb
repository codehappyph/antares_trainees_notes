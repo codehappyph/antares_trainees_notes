{
 "cells": [
  {
   "cell_type": "code",
   "execution_count": 1,
   "metadata": {},
   "outputs": [],
   "source": [
    "class Parent:\n",
    "    \n",
    "    def get(self):\n",
    "        print(f'I am called from {self}')\n",
    "    \n",
    "    def __repr__(self):\n",
    "        return self.__class__.__name__"
   ]
  },
  {
   "cell_type": "code",
   "execution_count": 2,
   "metadata": {},
   "outputs": [
    {
     "name": "stdout",
     "output_type": "stream",
     "text": [
      "I am called from Parent\n"
     ]
    }
   ],
   "source": [
    "Parent().get()"
   ]
  },
  {
   "cell_type": "code",
   "execution_count": 3,
   "metadata": {},
   "outputs": [],
   "source": [
    "# Completely override the `get` method\n",
    "class ChildA(Parent):\n",
    "    def get(self):\n",
    "        print(f'I am called from {self}')"
   ]
  },
  {
   "cell_type": "code",
   "execution_count": 4,
   "metadata": {},
   "outputs": [
    {
     "name": "stdout",
     "output_type": "stream",
     "text": [
      "I am called from ChildA\n"
     ]
    }
   ],
   "source": [
    "ChildA().get()"
   ]
  },
  {
   "cell_type": "code",
   "execution_count": 7,
   "metadata": {},
   "outputs": [],
   "source": [
    "# Retain the parent class behaviour\n",
    "class ChildB(Parent):\n",
    "    def get(self):\n",
    "        \n",
    "        # Ensures that the parent's implentation is ran\n",
    "        super().get()\n",
    "        \n",
    "        # Child's override behaviour\n",
    "        print(f'I am the override behavior')\n",
    "        "
   ]
  },
  {
   "cell_type": "code",
   "execution_count": 8,
   "metadata": {},
   "outputs": [
    {
     "name": "stdout",
     "output_type": "stream",
     "text": [
      "I am called from ChildB\n",
      "I am the override behavior\n"
     ]
    }
   ],
   "source": [
    "ChildB().get()"
   ]
  },
  {
   "cell_type": "markdown",
   "metadata": {},
   "source": [
    "```\n",
    "Template Base\n",
    "\n",
    "{% block scripts %}\n",
    "<script ... bootstrap>\n",
    "\n",
    "{% endblock scripts %}\n",
    "\n",
    "\n",
    "...\n",
    "Template B\n",
    "{% block scripts %}\n",
    "{% super() %}\n",
    "<script template scripts>...\n",
    "\n",
    "{# custom implem #}\n",
    "\n",
    "{% endblock scripts %}\n",
    "```"
   ]
  },
  {
   "cell_type": "markdown",
   "metadata": {},
   "source": [
    "```\n",
    "class EmployeesView():\n",
    "    \n",
    "    def get(self, request, **kwargs):\n",
    "        return get template\n",
    "    \n",
    "    def post(self, request, **kwargs):\n",
    "        save data\n",
    "        \n",
    "        return super().get()\n",
    "        # return redirect(self.get)\n",
    "```"
   ]
  }
 ],
 "metadata": {
  "kernelspec": {
   "display_name": "Python 3",
   "language": "python",
   "name": "python3"
  },
  "language_info": {
   "codemirror_mode": {
    "name": "ipython",
    "version": 3
   },
   "file_extension": ".py",
   "mimetype": "text/x-python",
   "name": "python",
   "nbconvert_exporter": "python",
   "pygments_lexer": "ipython3",
   "version": "3.6.11"
  }
 },
 "nbformat": 4,
 "nbformat_minor": 4
}
